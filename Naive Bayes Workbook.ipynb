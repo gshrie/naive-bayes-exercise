{
 "cells": [
  {
   "cell_type": "markdown",
   "id": "8d684a9a-ccbb-4710-92f9-e62ee4a2e97e",
   "metadata": {},
   "source": [
    "# Naive Bayes Workbook"
   ]
  },
  {
   "cell_type": "markdown",
   "id": "4108ee0c-bc19-4885-aacd-f021a481adfa",
   "metadata": {
    "tags": []
   },
   "source": [
    "<details>\n",
    "    <summary>README.md Copy</summary>\n",
    "This is an exercise to walk through the Naive Bayes algorithm. You will be walked through the basics of Bayes Theorem under the assumption you have no prior knowledge. We will then introduce you to Naive Bayes as a machine learning algorithm. <br><br>\n",
    "\n",
    "You will be asked to implement the algorithm from scratch. Please avoid the use of scikit-learn or other machine learning libraries for the implementation of naive bayes - pandas, numpy, or similar libraries are what we expect to see for your Python implementation. It is acceptable to use scikit-learn libraries (or other libraries) for evaluating your algorithm's correctness.<br>\n",
    "\n",
    "Your notebook will be evaluated on the following:\n",
    "<ul>\n",
    "    <li>Correctness</li>\n",
    "    <li>Legibility</li>\n",
    "    <li>Documentation</li>\n",
    "</ul>\n",
    "<br>\n",
    "\n",
    "Please fork this repo and use the notebook within. When you have completed your notebook, present your submission by sharing your repo with us and sending us an email with a direct link. It is important that you demonstrate your ability to use GitHub as well as to complete the notebook assignment.<br>\n",
    "\n",
    "If you do not already have <a href=\"https://docs.anaconda.com/navigator/install/\">Anaconda Navigator</a> installed, you will need to do so. You can opt for a different setup of your python environment, but Anaconda is recommended for beginners. Anaconda comes by default with JupyterLab and JupyterNotebook both of which will allow you to open and edit the Python notebook. Anaconda includes a basic enviroment with the most used Python data science packages, but you may install additional packages to complete this excercise. You can search <a href=\"https://anaconda.org/\">https://anaconda.org</a> for terminal commands to install more packages or use the Anaconda GUI.<br>\n",
    "\n",
    "\n",
    "**While important, this assignment is not the sole candidate selection criteria.**  Please do not be discouraged if you are having difficulties understanding or implementing the assignment.  We are here to assist you with questions or concerns that come up while trying to complete it.  Do not hesitate to reach out to brooke.r.weborg@nasa.gov, meghan.bush@nasa.gov, and jeremiah.d.sims@nasa.gov <br>\n",
    "\n",
    "</details>"
   ]
  },
  {
   "cell_type": "markdown",
   "id": "0df06baf-e920-4848-b5a7-4eb4e3485aee",
   "metadata": {
    "tags": []
   },
   "source": [
    "## Bayes Theorem"
   ]
  },
  {
   "cell_type": "markdown",
   "id": "1d68f60c-2945-4e68-b2b6-05dcf8f2fce4",
   "metadata": {},
   "source": [
    "We will now do a brief introduction to the probability theory you need to understand to complete the notebook. A lot of this should be review, but in the case you may not have taken a probability and statistics class yet, the first half of this notebook will provide the information to understand what Bayes rule is before we ask you to code Naive Bayes. This section in not mandatory and can be skipped entirely."
   ]
  },
  {
   "cell_type": "markdown",
   "id": "6bdf6297-d0b5-4bbd-9fce-0c8c62b6c968",
   "metadata": {},
   "source": [
    "### Review of Probability Theory\n",
    "If you haven't taken an intro to statistics and probability class yet (or you need a refresher), and the following is very confusing for you, please check out this awesome and interactive reference from Brown University to get some foundational knowledge:<br>\n",
    "https://seeing-theory.brown.edu/basic-probability/index.html"
   ]
  },
  {
   "cell_type": "markdown",
   "id": "28a51b3f-45f4-4c4f-ab6c-c00fda41d749",
   "metadata": {},
   "source": [
    "### Conditional Probability"
   ]
  },
  {
   "cell_type": "markdown",
   "id": "0fc40794-9ba0-4da3-9a86-4d2c5e68b8d4",
   "metadata": {},
   "source": [
    "Conditional probability tells us that, given some condition, this is the probability of an event happening. We will use weather as an example. Given that <i>B</i> is the condition that it's cloudy outside and <i>A</i>, is the event of rain, conditional probability would then ask, what is the probability of rain, <i>A</i>, given that it's cloudy outside, <i>B</i>.\n",
    "\n",
    "Conditional probability looks at a subset of data that meets the condition. For our example, that's the set of data where it's cloudy outside on a given day. Then we can obtain that probability by counting the number of days where it rains and the total number of days it's cloudy (not necessarily rainy). Then our probability is the following:\n",
    "    \n",
    "$$\n",
    "P(Rain|Cloudy)=\\frac{\\text{Total number of rainy days that are also cloudy}}{\\text{Total number of cloudy days (may or may not be raining)}}\n",
    "$$"
   ]
  },
  {
   "cell_type": "markdown",
   "id": "a25ce493-e0dd-4dd7-afda-fa9889987c62",
   "metadata": {},
   "source": [
    "Mathematically, we can write this generically as follows:\n",
    "$$\n",
    "  P(A|B)=\\frac{P(A\\text{∩}B)}{P(B)} \\text{ if } P(B) > 0\n",
    "$$"
   ]
  },
  {
   "cell_type": "markdown",
   "id": "7f7f3be3-ccea-41be-b796-39d56aeaf82d",
   "metadata": {},
   "source": [
    "For an interactive example, check out this chapter from Brown University:<br>\n",
    "https://seeing-theory.brown.edu/compound-probability/index.html#section3"
   ]
  },
  {
   "cell_type": "markdown",
   "id": "9281dbdc-8284-4b27-952a-fc36e73347c6",
   "metadata": {},
   "source": [
    "### Law of Total Probability"
   ]
  },
  {
   "cell_type": "markdown",
   "id": "e65dadbf-ac5b-4bbe-a359-c8aef9cec4f4",
   "metadata": {},
   "source": [
    "Let's say we're looking for a total probability of an event, <i>P(A)</i>, but we only have probability of A given it's intersection with several other events, <i>P(A∩B)</i> and <i>P(A∩B<sup>C</sup>)</i>. The image below shows <i>P(A)</i> which we are trying to find."
   ]
  },
  {
   "attachments": {
    "0efe6815-c11c-4a5a-af52-e34d3d787245.png": {
     "image/png": "[encoded data removed]"
    }
   },
   "cell_type": "markdown",
   "id": "6ddf1af5-c7f4-4ace-8a17-461afb8eb6fb",
   "metadata": {},
   "source": [
    "![total-probability-rule.png](attachment:0efe6815-c11c-4a5a-af52-e34d3d787245.png)\n",
    "<i>https://www.statisticshowto.com/total-probability-rule/</i>"
   ]
  },
  {
   "cell_type": "markdown",
   "id": "e2b8af0b-c5f4-4025-958f-4dd673cc2a7a",
   "metadata": {},
   "source": [
    "The Law of Total Probability assists us in calculating <i>P(A)</i> in this situation. Given that we have all the intersections between <i>A</i> and <i>B<sub>i</sub></i> events, we can take the sum of those events:"
   ]
  },
  {
   "cell_type": "markdown",
   "id": "7bf7a475-8009-460a-a248-5c3a0f7ca55e",
   "metadata": {},
   "source": [
    "$$\n",
    "  P(A)= \\sum_{i} P(A\\text{∩}B_i)$$"
   ]
  },
  {
   "cell_type": "markdown",
   "id": "d6815431-7c0e-4733-907e-22942fd7befe",
   "metadata": {},
   "source": [
    "This rule can also be rewritten given the conditional probability. To remove the conditional, we need to multiply by the probability of the event. Looking back on the conditional probability formula, this should make sense to you.\n",
    "$$\n",
    "  P(A)= \\sum_{i} P(A\\text{∩}B_i)= \\sum_{i} P(A|B_i) P(B_i)\n",
    "$$"
   ]
  },
  {
   "cell_type": "markdown",
   "id": "510450d7-0eca-4915-a242-749d895e6a1a",
   "metadata": {},
   "source": [
    "### Bayes Rule"
   ]
  },
  {
   "cell_type": "markdown",
   "id": "050a3a37-ec99-4359-ab13-6ca8fdd6b742",
   "metadata": {},
   "source": [
    "Bayes Rule is a combination of the Law of Total Probability and Conditional Probability. In the simplist terms, Bayes Theorem answers the question, \"Given <i>this</i>, what is the probability of <i>this other thing</i> occuring?\" An example of this would be: given I have a fever, what is the probability I have covid? We represent it as follows:<br>\n",
    "$$\n",
    "P(Covid|Fever)=\\frac{P(Fever|Covid)P(Covid)}{P(Fever)}\n",
    "$$"
   ]
  },
  {
   "cell_type": "markdown",
   "id": "4dec43bb-8c1d-42dc-adb2-a0b5cb0510d1",
   "metadata": {},
   "source": [
    "More generally we can write Bayes Rule as follows:"
   ]
  },
  {
   "cell_type": "markdown",
   "id": "51d27252-36f7-46f9-86a3-ba6e37764fc3",
   "metadata": {},
   "source": [
    "$$\n",
    "  P(X=x|Y=y) = \\frac{P(X=x \\text{∩} Y=y)}{P(Y=y)}= \\frac{P(X=x)P(Y=y|X=x)}{\\sum_{x'} P(X=x')P(Y=y|X=x')}\n",
    "$$\n",
    "\n",
    "or\n",
    "\n",
    "$$\n",
    "P(A|B)=\\frac{P(B|A)P(A)}{P(B)}\n",
    "$$"
   ]
  },
  {
   "cell_type": "markdown",
   "id": "2699ba07-a979-45c2-9d58-c8fb5595067d",
   "metadata": {},
   "source": [
    "# Naive Bayes"
   ]
  },
  {
   "cell_type": "markdown",
   "id": "de83a9c0-1525-46db-a040-a71a99f85a21",
   "metadata": {},
   "source": [
    "**How does probability tie into machine learning?** Well, in practice, we rarely know any of the probabilities to do these calculations. What happens instead is we take a large sample of data and make approximations using supervised learning techniques. \n",
    "\n",
    "<b>Supervised learning</b> means we know the before and after, or, in other words, we know both our inputs into the algorithm as well as our outputs for learning.<br>\n",
    "\n",
    "We can use a generative modeling approach to approximate *P(A)* and *P(B|A)*, then follow up with Bayes rule to compute *P(A|B)*."
   ]
  },
  {
   "cell_type": "markdown",
   "id": "91516740-6c61-4954-9499-fd5825440bd1",
   "metadata": {},
   "source": [
    "## Example\n",
    "*This example was derived from Machine Learning an Algorithmic Perspective 2nd Edition by Stephen Marshland*\n",
    "\n",
    "Features/Inputs:\n",
    "$$\n",
    "\\newcommand\\mycolv[1]{\\begin{bmatrix}#1\\end{bmatrix}}\n",
    "x = \\mycolv{x_1\\\\.\\\\.\\\\.\\\\x_n}\n",
    "$$\n",
    "\n",
    "Targets/Labels: \n",
    "$$\n",
    "c = \\mycolv{c_1\\\\.\\\\.\\\\.\\\\c_n}\n",
    "$$\n",
    "\n",
    "Definitions:\n",
    "\n",
    "**Prior Probability P(c<sub>i</sub>)**: Probability of a class without seeing any data.\n",
    "\n",
    "**Class-Conditional Probability P(x|c<sub>i</sub>)**: Probability of data (features) given a class.\n",
    "\n",
    "**Posterior Probability P(c<sub>i</sub>|x)**: Probability of a class given features."
   ]
  },
  {
   "cell_type": "markdown",
   "id": "2772dd60-4325-476d-96cb-b6338258e5b5",
   "metadata": {},
   "source": [
    "### Predict what activity *c<sub>i</sub>* you will do given 3 features *x*.\n",
    "\n",
    "|Deadline?/x<sub>1</sub>|Is There a Party?/x<sub>2</sub>|Lazy?/x<sub>3</sub>|Activity/c|\n",
    "|---|---|---|---|\n",
    "|Urgent|Yes|Yes|Party|\n",
    "|Urgent|No|Yes|Study|\n",
    "|Near|Yes|Yes|Party|\n",
    "|None|Yes|No|Party|\n",
    "|None|No|Yes|Pub|\n",
    "|None|Yes|No|Party|\n",
    "|Near|No|No|Study|\n",
    "|Near|No|Yes|TV|\n",
    "|Near|Yes|Yes|Party|\n",
    "|Urgent|No|No|Study|\n",
    "\n",
    "To put this into perspective, our input vector, *x*, for a sample is a single row of data excluding the last column. The last column in the row is our label or class, *c*, for the sample. The first row contains the input:\n",
    "$$\n",
    "x = \\mycolv{x_1=Urgent\\\\x_2=Yes\\\\x_3=Yes}\n",
    "$$\n",
    "\n",
    "And the output:\n",
    "$$\n",
    "c = \\mycolv{Party}\n",
    "$$\n",
    "\n",
    "From the data above, we can collect the following probabilities:\n",
    "$$\n",
    "P(c=party)=\\frac{5}{10}\n",
    "$$\n",
    "\n",
    "$$\n",
    "P(c=study)=\\frac{3}{10}\n",
    "$$\n",
    "\n",
    "$$\n",
    "P(c=TV)=\\frac{1}{10}\n",
    "$$\n",
    "\n",
    "$$\n",
    "P(c=Pub)=\\frac{1}{10}\n",
    "$$\n",
    "\n",
    "Assume we only have the feature *x<sub>1</sub>* where c=party (5 total examples):\n",
    "\n",
    "|Urgent|Near|None|\n",
    "|---|---|---|\n",
    "|1|2|2|\n",
    "\n",
    "$$\n",
    "P(x_1=Urgent|c=Party)=\\frac{1}{5}\n",
    "$$\n",
    "\n",
    "$$\n",
    "P(x_1=Near|c=Party)=\\frac{2}{5}\n",
    "$$\n",
    "\n",
    "$$\n",
    "P(x_1=None|c=Party)=\\frac{2}{5}\n",
    "$$"
   ]
  },
  {
   "cell_type": "markdown",
   "id": "24dcb041-d6c2-4517-8aeb-1d66443084be",
   "metadata": {
    "tags": []
   },
   "source": [
    "#### *This section won't be reviewed and is just for you to practice this concept*\n",
    "\n",
    "**Repeat the above for each class c<sub>i</sub> to finish training classifier**\n",
    "<details>\n",
    "    <summary>Open Pratice</summary>\n",
    "$$\n",
    "P(x_1=Urgent|c=Study)=\\frac{}{}\n",
    "$$\n",
    "\n",
    "$$\n",
    "P(x_1=Near|c=Study)=\\frac{}{}\n",
    "$$\n",
    "\n",
    "$$\n",
    "P(x_1=None|c=Study)=\\frac{}{}\n",
    "$$\n",
    "\n",
    "$$\n",
    "P(x_1=Urgent|c=Pub)=\\frac{}{}\n",
    "$$\n",
    "\n",
    "$$\n",
    "P(x_1=Near|c=Pub)=\\frac{}{}\n",
    "$$\n",
    "\n",
    "$$\n",
    "P(x_1=None|c=Pub)=\\frac{}{}\n",
    "$$\n",
    "\n",
    "$$\n",
    "P(x_1=Urgent|c=TV)=\\frac{}{}\n",
    "$$\n",
    "\n",
    "$$\n",
    "P(x_1=Near|c=TV)=\\frac{}{}\n",
    "$$\n",
    "\n",
    "$$\n",
    "P(x_1=None|c=TV)=\\frac{}{}\n",
    "$$\n",
    "    </details>"
   ]
  },
  {
   "cell_type": "markdown",
   "id": "1ed025cb-db44-4c22-92b1-414f7752810f",
   "metadata": {
    "jp-MarkdownHeadingCollapsed": true,
    "tags": []
   },
   "source": [
    "#### *Making a Prediction*\n",
    "We can make a prediction on a new test example using our MAP rule which in this case is Bayes rule:\n",
    "$$\n",
    "P(c_i|x_1)=\\frac{P(x_1|c_i)P(c_i)}{P(x_1)}\n",
    "$$\n",
    "\n",
    "By law of total probability we can sub *P(x<sub>1</sub>)* for:\n",
    "$$\n",
    "P(c_i|x_1)=\\frac{P(x_1|c_i)P(c_i)}{\\sum_{j} P(x_1|c_j) P(c_j)}\n",
    "$$\n",
    "\n",
    "If you do the excercise above left for you, you can sub in those values to this equation to find any combination of P(c<sub>i</sub>=[Party,Study,TV,Pub] | x<sub>1</sub>=[Urgent,Near,None])\n",
    "\n",
    "Lets add in feature *x<sub>3</sub>* where c=party.\n",
    "\n",
    "| | |Urgent|Near|None|\n",
    "|---|---|---|---|---|\n",
    "|Lazy?|Yes|1|2|0|\n",
    "|Lazy?|No|0|0|2|\n",
    "\n",
    "Then we can obtain the following probabilities:\n",
    "$$\n",
    "P(x_1=Urgent, x_3=Yes|c=Party)=\\frac{1}{5}\n",
    "$$\n",
    "\n",
    "$$\n",
    "P(x_1=Urgent, x_3=No|c=Party)=0\n",
    "$$\n",
    "\n",
    "$$\n",
    "P(x_1=Near,x_3=Yes|c=Party)=\\frac{2}{5}\n",
    "$$\n",
    "\n",
    "$$\n",
    "P(x_1=Near,x_3=No|c=Party)=0\n",
    "$$\n",
    "\n",
    "$$\n",
    "P(x_1=None, x_3=Yes|c=Party)=0\n",
    "$$\n",
    "\n",
    "$$\n",
    "P(x_1=None, x_3=No|c=Party)=\\frac{2}{5}\n",
    "$$\n",
    "\n",
    "Note that as the number of features increases, so does the number of empty bins above. If we had more training data, some of these bins may become greater than 0. If we have *d* features, we have ~2<sup>d</sup> bins.\n",
    "    \n",
    "However, to have all non-zero bins (best case) our training data must grow exponentially with *d*. It's impossible to obtain this much data for a large amount of features so **machine learning algorithms make assumptions about the probabilities or data structure in order to require less training data.**"
   ]
  },
  {
   "cell_type": "markdown",
   "id": "67ceb28c-59ca-4d7c-b3eb-91a24b9fc2bc",
   "metadata": {},
   "source": [
    "## Naive Bayes Classifier"
   ]
  },
  {
   "cell_type": "markdown",
   "id": "ffbbaaa4-7cde-416a-a0c8-9863a3e0fad4",
   "metadata": {},
   "source": [
    "For the Naive Bayes machine learning classifier, **we make the assumption that features are conditionally *independent* given a class**. This obviously isn't true, as there are many real world examples where features are dependent on one another, but making this assumption simplifies the algorithm and gets us really close. This is our original model (dependent):\n",
    "$$\n",
    "P(x_j|c_i)=P(x^1_j,x^2_j,...,x^d_j|c_i)P(c_i)\n",
    "$$\n",
    "And this is our Naive Bayes Assumption (independent):\n",
    "$$\n",
    "P(x_j|c_i)=P(x^1_j|c_i)P(x^2_j|c_i)...P(x^d_j|c_i)\n",
    "$$\n",
    "\n",
    "In turn, our MAP rule becomes:\n",
    "$$\n",
    "P(c_i|x_j)=\\frac{P(x_j|c_i)P(c_i)}{P(x_j)}\\\\\n",
    "\\alpha P(x_j|c_i)P(c_i)\\\\\n",
    "=P(c_i)\\prod^d_{k=1}P(x^k_j|c_i)\n",
    "$$"
   ]
  },
  {
   "cell_type": "markdown",
   "id": "0cea9b3c-8cc8-4059-aef8-7fcdccaeec25",
   "metadata": {},
   "source": [
    "# EXCERCISE\n",
    "This begins your official interview exercise. Please do your best to fill in and complete this section. There will be some basics introduced here under the assumption you've never used these libraries."
   ]
  },
  {
   "cell_type": "code",
   "execution_count": 89,
   "id": "fa5e90b1-a13a-4837-b13c-daf1950ff9e6",
   "metadata": {},
   "outputs": [],
   "source": [
    "import numpy as np\n",
    "import math"
   ]
  },
  {
   "cell_type": "markdown",
   "id": "eda31bf5-f362-4e72-a829-61d9dabcd3dd",
   "metadata": {},
   "source": [
    "##### 1) Make an array *a* using numpy of size 8x5 where every element is 2"
   ]
  },
  {
   "cell_type": "code",
   "execution_count": 90,
   "id": "627bfef8-2706-400f-99ce-bed0a0f7da35",
   "metadata": {},
   "outputs": [
    {
     "data": {
      "text/plain": [
       "array([[2., 2., 2., 2., 2.],\n",
       "       [2., 2., 2., 2., 2.],\n",
       "       [2., 2., 2., 2., 2.],\n",
       "       [2., 2., 2., 2., 2.],\n",
       "       [2., 2., 2., 2., 2.],\n",
       "       [2., 2., 2., 2., 2.],\n",
       "       [2., 2., 2., 2., 2.],\n",
       "       [2., 2., 2., 2., 2.]])"
      ]
     },
     "execution_count": 90,
     "metadata": {},
     "output_type": "execute_result"
    }
   ],
   "source": [
    "#Your code here\n",
    "# 8*5 matrix with 1s and multiply every element by 2\n",
    "a = np.ones((8,5)) * 2\n",
    "a"
   ]
  },
  {
   "cell_type": "markdown",
   "id": "40f723ed-516e-44f6-a04d-5bb7becb2d01",
   "metadata": {},
   "source": [
    "##### 2) Make an array *b* of size 8x5 that has 4 on the leading diagonal and 1 everywhere else."
   ]
  },
  {
   "cell_type": "code",
   "execution_count": 83,
   "id": "4fe7502a-f229-4dfa-b042-c3a7caf0462d",
   "metadata": {},
   "outputs": [
    {
     "data": {
      "text/plain": [
       "array([[4., 1., 1., 1., 1.],\n",
       "       [1., 4., 1., 1., 1.],\n",
       "       [1., 1., 4., 1., 1.],\n",
       "       [1., 1., 1., 4., 1.],\n",
       "       [1., 1., 1., 1., 4.],\n",
       "       [1., 1., 1., 1., 1.],\n",
       "       [1., 1., 1., 1., 1.],\n",
       "       [1., 1., 1., 1., 1.]])"
      ]
     },
     "execution_count": 83,
     "metadata": {},
     "output_type": "execute_result"
    }
   ],
   "source": [
    "#Your code here\n",
    "# 8*5 matrix where we have an array of zeros with 1s on the main diagonal\n",
    "# multiply every element by 3 and add 1 to every element\n",
    "b = 3 * np.eye(8, 5) + 1\n",
    "b"
   ]
  },
  {
   "cell_type": "markdown",
   "id": "bdfc7e71-756d-4cae-86f0-99283b776be5",
   "metadata": {},
   "source": [
    "##### 3) Can you multiply these two matrices together? Why does a*b work, but not dot(a,b)?"
   ]
  },
  {
   "cell_type": "code",
   "execution_count": 84,
   "id": "0b97a8eb-50b1-4faa-bc42-57c6be0ab18f",
   "metadata": {
    "scrolled": true
   },
   "outputs": [
    {
     "data": {
      "text/plain": [
       "array([[8., 2., 2., 2., 2.],\n",
       "       [2., 8., 2., 2., 2.],\n",
       "       [2., 2., 8., 2., 2.],\n",
       "       [2., 2., 2., 8., 2.],\n",
       "       [2., 2., 2., 2., 8.],\n",
       "       [2., 2., 2., 2., 2.],\n",
       "       [2., 2., 2., 2., 2.],\n",
       "       [2., 2., 2., 2., 2.]])"
      ]
     },
     "execution_count": 84,
     "metadata": {},
     "output_type": "execute_result"
    }
   ],
   "source": [
    "#Element-wise multiplication (WORKS)\n",
    "a * b"
   ]
  },
  {
   "cell_type": "code",
   "execution_count": 93,
   "id": "e71a9dcb",
   "metadata": {},
   "outputs": [
    {
     "ename": "ValueError",
     "evalue": "shapes (8,5) and (8,5) not aligned: 5 (dim 1) != 8 (dim 0)",
     "output_type": "error",
     "traceback": [
      "\u001b[1;31m---------------------------------------------------------------------------\u001b[0m",
      "\u001b[1;31mValueError\u001b[0m                                Traceback (most recent call last)",
      "Cell \u001b[1;32mIn[93], line 2\u001b[0m\n\u001b[0;32m      1\u001b[0m \u001b[38;5;66;03m# Matrix multiplication (DOESN'T WORK)\u001b[39;00m\n\u001b[1;32m----> 2\u001b[0m np\u001b[38;5;241m.\u001b[39mdot(a,b)\n",
      "File \u001b[1;32m<__array_function__ internals>:200\u001b[0m, in \u001b[0;36mdot\u001b[1;34m(*args, **kwargs)\u001b[0m\n",
      "\u001b[1;31mValueError\u001b[0m: shapes (8,5) and (8,5) not aligned: 5 (dim 1) != 8 (dim 0)"
     ]
    }
   ],
   "source": [
    "# Matrix multiplication (DOESN'T WORK)\n",
    "np.dot(a,b)"
   ]
  },
  {
   "cell_type": "code",
   "execution_count": 16,
   "id": "64d0c398",
   "metadata": {},
   "outputs": [
    {
     "data": {
      "text/plain": [
       "array([[16., 16., 16., 16., 16., 10., 10., 10.],\n",
       "       [16., 16., 16., 16., 16., 10., 10., 10.],\n",
       "       [16., 16., 16., 16., 16., 10., 10., 10.],\n",
       "       [16., 16., 16., 16., 16., 10., 10., 10.],\n",
       "       [16., 16., 16., 16., 16., 10., 10., 10.],\n",
       "       [16., 16., 16., 16., 16., 10., 10., 10.],\n",
       "       [16., 16., 16., 16., 16., 10., 10., 10.],\n",
       "       [16., 16., 16., 16., 16., 10., 10., 10.]])"
      ]
     },
     "execution_count": 16,
     "metadata": {},
     "output_type": "execute_result"
    }
   ],
   "source": [
    "# b needs to be transposed to get a dot product\n",
    "np.dot(a,b.T)"
   ]
  },
  {
   "cell_type": "code",
   "execution_count": 18,
   "id": "a0cabb09",
   "metadata": {},
   "outputs": [
    {
     "data": {
      "text/plain": [
       "array([[22., 22., 22., 22., 22.],\n",
       "       [22., 22., 22., 22., 22.],\n",
       "       [22., 22., 22., 22., 22.],\n",
       "       [22., 22., 22., 22., 22.],\n",
       "       [22., 22., 22., 22., 22.]])"
      ]
     },
     "execution_count": 18,
     "metadata": {},
     "output_type": "execute_result"
    }
   ],
   "source": [
    "# @ operator of numpy can be used instead of dot product\n",
    "# We're transposing a and multiplying with b\n",
    "\n",
    "a.T @ b"
   ]
  },
  {
   "cell_type": "markdown",
   "id": "8224366e-3991-456e-bce6-f9de72758202",
   "metadata": {},
   "source": [
    "*Write your explanation here*\n",
    "<br><br>\n",
    "Yes, we can Element-wise multiply the a and b matrices where each corresponding element is multiplied to create a new 8x5 matrix. \n",
    "dot(a,b) does not work because this performs matrix multiplication, not element-wise multiplication. In order to successfully perform matrix multiplication, the dimensions of the matrices being mutliplied must have the correct dimensions (ex. 8x5 and 5x8).\n",
    "Matrix a or b needs to be transposed to get a successful dot product. If a is transposed we get a 5x5 matrix and if b is transposed we get an 8x8 matrix\n"
   ]
  },
  {
   "cell_type": "markdown",
   "id": "7027e8c2-2f01-463b-8a66-4100192e602b",
   "metadata": {},
   "source": [
    "##### 4) Your first step in machine learning is to read in the data which you would like to train your classifier. We've provided this dataset in the repo, *dataset.csv*. Bring this data into the notebook and store it as a numpy matrix using pandas to read in the data. <a href=\"https://pandas.pydata.org/docs/reference/api/pandas.read_csv.html\">read_csv</a> method."
   ]
  },
  {
   "cell_type": "code",
   "execution_count": 2,
   "id": "b59a4dfb-1920-4b81-a653-1322854ddfe6",
   "metadata": {},
   "outputs": [
    {
     "data": {
      "text/plain": [
       "[[0.816094267, 0.533600097, 0.219717687, 0.031388241, 0.0],\n",
       " [0.823072178, 0.514420111, 0.240062718, 0.017147337, 0.0],\n",
       " [0.807795685, 0.538530457, 0.237586966, 0.031678262, 0.0],\n",
       " [0.860938573, 0.440035271, 0.248715588, 0.057395905, 0.0],\n",
       " [0.798370248, 0.557352815, 0.225953844, 0.030127179, 0.0],\n",
       " [0.808465844, 0.522134191, 0.269488615, 0.033686077, 0.0],\n",
       " [0.805977915, 0.521515122, 0.268659305, 0.079017443, 0.0],\n",
       " [0.766938972, 0.571444724, 0.285722362, 0.060152076, 0.0],\n",
       " [0.825122952, 0.52807869, 0.198029509, 0.033004918, 0.0],\n",
       " [0.790964996, 0.569494797, 0.221470199, 0.0316386, 0.0],\n",
       " [0.822250281, 0.51771314, 0.228402856, 0.060907428, 0.0],\n",
       " [0.806419649, 0.542782456, 0.232621053, 0.03101614, 0.0],\n",
       " [0.803274124, 0.551266555, 0.220506622, 0.047251419, 0.0],\n",
       " [0.826474506, 0.495884704, 0.264471842, 0.03305898, 0.0],\n",
       " [0.786991003, 0.55745196, 0.262330334, 0.032791292, 0.0],\n",
       " [0.786090376, 0.571702091, 0.232253975, 0.035731381, 0.0],\n",
       " [0.802124133, 0.546902818, 0.236991221, 0.036460188, 0.0],\n",
       " [0.806828203, 0.537885469, 0.240632973, 0.042464642, 0.0],\n",
       " [0.802184919, 0.545485745, 0.240655476, 0.032087397, 0.0],\n",
       " [0.776114, 0.549747417, 0.307211792, 0.032338083, 0.0],\n",
       " [0.826997544, 0.526271164, 0.195472147, 0.030072638, 0.0],\n",
       " [0.803772773, 0.551608766, 0.220643506, 0.031520501, 0.0],\n",
       " [0.765783108, 0.603790528, 0.220898974, 0.014726598, 0.0],\n",
       " [0.780109356, 0.576602567, 0.237424587, 0.050876697, 0.0],\n",
       " [0.800030247, 0.539150819, 0.260879429, 0.034783924, 0.0],\n",
       " [0.802512599, 0.559892511, 0.205293921, 0.018663084, 0.0],\n",
       " [0.778674473, 0.594624143, 0.198208048, 0.028315435, 0.0],\n",
       " [0.785232211, 0.576905298, 0.22435206, 0.016025147, 0.0],\n",
       " [0.803735188, 0.550707444, 0.223259774, 0.02976797, 0.0],\n",
       " [0.775770746, 0.607124932, 0.168645814, 0.033729163, 0.0],\n",
       " [0.777290927, 0.579157945, 0.243855977, 0.030481997, 0.0],\n",
       " [0.828132873, 0.507020127, 0.236609392, 0.033801342, 0.0],\n",
       " [0.794289441, 0.573653485, 0.191217828, 0.058836255, 0.0],\n",
       " [0.795947821, 0.553702832, 0.242244989, 0.034606427, 0.0],\n",
       " [0.77381111, 0.597327875, 0.203634503, 0.054302534, 0.0],\n",
       " [0.822105847, 0.513816154, 0.239780872, 0.051381615, 0.0],\n",
       " [0.811208646, 0.559454239, 0.167836272, 0.027972712, 0.0],\n",
       " [0.806423656, 0.531506501, 0.256589345, 0.036655621, 0.0],\n",
       " [0.784174986, 0.566348601, 0.246869903, 0.058087036, 0.0],\n",
       " [0.817337897, 0.514620157, 0.257310079, 0.030271774, 0.0],\n",
       " [0.805333075, 0.548311881, 0.222751702, 0.034269493, 0.0],\n",
       " [0.797782058, 0.542491799, 0.255290259, 0.063822565, 0.0],\n",
       " [0.812283631, 0.536107197, 0.227439417, 0.032491345, 0.0],\n",
       " [0.764672695, 0.314865227, 0.539768961, 0.157432614, 1.0],\n",
       " [0.739234616, 0.375882008, 0.526234812, 0.187941004, 1.0],\n",
       " [0.770118538, 0.353497034, 0.504995763, 0.164123623, 1.0],\n",
       " [0.767857255, 0.349026025, 0.511904837, 0.162878812, 1.0],\n",
       " [0.769454445, 0.356016236, 0.505313367, 0.160781526, 1.0],\n",
       " [0.733509487, 0.354529586, 0.550132115, 0.183377372, 1.0],\n",
       " [0.745497566, 0.372748783, 0.524177976, 0.174725992, 1.0],\n",
       " [0.740885763, 0.331739894, 0.552899823, 0.18798594, 1.0],\n",
       " [0.732396177, 0.385471672, 0.539660341, 0.154188669, 1.0],\n",
       " [0.706318918, 0.378385135, 0.567577702, 0.189192567, 1.0],\n",
       " [0.734460466, 0.373672869, 0.541181396, 0.167508527, 1.0],\n",
       " [0.788927525, 0.289273426, 0.525951683, 0.131487921, 1.0],\n",
       " [0.759117072, 0.393114198, 0.488003832, 0.176223606, 1.0],\n",
       " [0.715249355, 0.405307968, 0.536437016, 0.190733161, 1.0],\n",
       " [0.754573406, 0.349130979, 0.529327613, 0.168934345, 1.0],\n",
       " [0.769868795, 0.354139646, 0.508113405, 0.153973759, 1.0],\n",
       " [0.764349812, 0.355818016, 0.513959357, 0.15814134, 1.0],\n",
       " [0.724602335, 0.376235828, 0.543451751, 0.195085244, 1.0],\n",
       " [0.743148202, 0.365055257, 0.534545198, 0.169489941, 1.0],\n",
       " [0.693334094, 0.385185608, 0.577778412, 0.192592804, 1.0],\n",
       " [0.723371185, 0.341957287, 0.578696948, 0.15782644, 1.0],\n",
       " [0.732603915, 0.360297007, 0.552455411, 0.168138603, 1.0],\n",
       " [0.761851879, 0.340112446, 0.530575416, 0.149649476, 1.0],\n",
       " [0.76262994, 0.341868594, 0.525951683, 0.157785505, 1.0],\n",
       " [0.764442378, 0.271253747, 0.55483721, 0.184945737, 1.0],\n",
       " [0.758175397, 0.326598632, 0.536554896, 0.174963553, 1.0],\n",
       " [0.767011029, 0.350633613, 0.51499312, 0.153402206, 1.0],\n",
       " [0.73081412, 0.347436221, 0.563086289, 0.167727831, 1.0],\n",
       " [0.772429248, 0.337060035, 0.519634221, 0.140441681, 1.0],\n",
       " [0.736598949, 0.338110993, 0.567543452, 0.144904711, 1.0],\n",
       " [0.782580542, 0.383617913, 0.460341495, 0.168791882, 1.0],\n",
       " [0.735442835, 0.35458851, 0.551582127, 0.170727801, 1.0],\n",
       " [0.722329618, 0.354828584, 0.570260225, 0.164741843, 1.0],\n",
       " [0.747141937, 0.339609971, 0.543375954, 0.176597185, 1.0],\n",
       " [0.765218549, 0.333913548, 0.528696452, 0.15304371, 1.0],\n",
       " [0.753849162, 0.315246013, 0.548253936, 0.178182529, 1.0],\n",
       " [0.763018528, 0.335265717, 0.531800792, 0.150291528, 1.0],\n",
       " [0.70779525, 0.318507863, 0.601625963, 0.1887454, 1.0],\n",
       " [0.756764973, 0.352287143, 0.53495455, 0.130476719, 1.0],\n",
       " [0.729924428, 0.391030944, 0.534408956, 0.169446742, 1.0],\n",
       " [0.723660047, 0.321626687, 0.585820038, 0.172300011, 2.0],\n",
       " [0.715294533, 0.317908681, 0.596078778, 0.178823633, 2.0],\n",
       " [0.733378862, 0.329489054, 0.542062637, 0.244459621, 2.0],\n",
       " [0.692767962, 0.318893189, 0.615793744, 0.197933703, 2.0],\n",
       " [0.731543985, 0.285017137, 0.579534846, 0.218513138, 2.0],\n",
       " [0.695898874, 0.347949437, 0.576291255, 0.250088658, 2.0],\n",
       " [0.715626447, 0.352308405, 0.56149152, 0.220192753, 2.0],\n",
       " [0.715789988, 0.344304045, 0.579880497, 0.181212655, 2.0],\n",
       " [0.683079229, 0.341539614, 0.597694325, 0.243956867, 2.0],\n",
       " [0.714865428, 0.259951065, 0.622025762, 0.185679332, 2.0],\n",
       " [0.70610474, 0.325894495, 0.597473241, 0.195536697, 2.0],\n",
       " [0.692990991, 0.341995554, 0.602992161, 0.197997426, 2.0],\n",
       " [0.727125848, 0.266612811, 0.605938207, 0.181781462, 2.0],\n",
       " [0.670174844, 0.361681662, 0.595710972, 0.255304702, 2.0],\n",
       " [0.689148708, 0.339431453, 0.586290692, 0.25714504, 2.0],\n",
       " [0.69804799, 0.338116995, 0.599884992, 0.196325997, 2.0],\n",
       " [0.716538987, 0.330710302, 0.57323119, 0.220473534, 2.0],\n",
       " [0.691987875, 0.345993938, 0.586267506, 0.240273568, 2.0],\n",
       " [0.711712139, 0.350022363, 0.571703193, 0.210013418, 2.0],\n",
       " [0.710669055, 0.355334527, 0.568535244, 0.213200716, 2.0],\n",
       " [0.653877471, 0.342507247, 0.622740449, 0.259475187, 2.0],\n",
       " [0.731224643, 0.31338199, 0.568730278, 0.208921327, 2.0],\n",
       " [0.686190218, 0.316703178, 0.61229281, 0.232248997, 2.0],\n",
       " [0.670541176, 0.342112845, 0.61580312, 0.232636734, 2.0],\n",
       " [0.690525124, 0.321451351, 0.607185885, 0.226206506, 2.0],\n",
       " [0.71491405, 0.302076359, 0.594083506, 0.211453451, 2.0],\n",
       " [0.705589343, 0.32722984, 0.582878153, 0.235196448, 2.0],\n",
       " [0.695956011, 0.342784304, 0.592081979, 0.218135466, 2.0],\n",
       " [0.709537079, 0.280080426, 0.616176937, 0.196056298, 2.0],\n",
       " [0.730898554, 0.304541064, 0.58877939, 0.162421901, 2.0],\n",
       " [0.690525124, 0.321451351, 0.607185885, 0.226206506, 2.0],\n",
       " [0.695940016, 0.304473757, 0.608947514, 0.228355318, 2.0],\n",
       " [0.717181481, 0.316403595, 0.580073257, 0.221482516, 2.0],\n",
       " [0.694177465, 0.303702641, 0.607405282, 0.238623504, 2.0],\n",
       " [0.727661593, 0.275331414, 0.599829151, 0.186832031, 2.0],\n",
       " [0.693854136, 0.295741107, 0.636980846, 0.159245212, 2.0],\n",
       " [0.713665574, 0.283510981, 0.615903166, 0.175972333, 2.0],\n",
       " [0.727851954, 0.328707334, 0.563498287, 0.211311858, 2.0],\n",
       " [0.714141252, 0.266470616, 0.61821183, 0.191858844, 2.0],\n",
       " [0.690259159, 0.350979233, 0.596664696, 0.21058754, 2.0],\n",
       " [0.691935021, 0.32561648, 0.600355386, 0.234036845, 2.0]]"
      ]
     },
     "execution_count": 2,
     "metadata": {},
     "output_type": "execute_result"
    }
   ],
   "source": [
    "import pandas as pd\n",
    "df = pd.read_csv(\"dataset.csv\")\n",
    "mydata = df.values.tolist()\n",
    "mydata"
   ]
  },
  {
   "cell_type": "markdown",
   "id": "4f7b8bb9-faf5-44fc-bc5c-c5cfba623f64",
   "metadata": {
    "tags": []
   },
   "source": [
    "Before you move on, you may want to preview your dataset to see what you're working with. You'll want to use numpy for your dataset manipulation but pandas has a cleaner print function. Try using it to preview your dataset."
   ]
  },
  {
   "cell_type": "code",
   "execution_count": 58,
   "id": "23f035c4-1a27-4b0a-81a3-891a589659df",
   "metadata": {},
   "outputs": [
    {
     "data": {
      "text/html": [
       "<div>\n",
       "<style scoped>\n",
       "    .dataframe tbody tr th:only-of-type {\n",
       "        vertical-align: middle;\n",
       "    }\n",
       "\n",
       "    .dataframe tbody tr th {\n",
       "        vertical-align: top;\n",
       "    }\n",
       "\n",
       "    .dataframe thead th {\n",
       "        text-align: right;\n",
       "    }\n",
       "</style>\n",
       "<table border=\"1\" class=\"dataframe\">\n",
       "  <thead>\n",
       "    <tr style=\"text-align: right;\">\n",
       "      <th></th>\n",
       "      <th>Feature_0</th>\n",
       "      <th>Feature_1</th>\n",
       "      <th>Feature_2</th>\n",
       "      <th>Feature_3</th>\n",
       "      <th>Target</th>\n",
       "    </tr>\n",
       "  </thead>\n",
       "  <tbody>\n",
       "    <tr>\n",
       "      <th>0</th>\n",
       "      <td>0.816094</td>\n",
       "      <td>0.533600</td>\n",
       "      <td>0.219718</td>\n",
       "      <td>0.031388</td>\n",
       "      <td>0</td>\n",
       "    </tr>\n",
       "    <tr>\n",
       "      <th>1</th>\n",
       "      <td>0.823072</td>\n",
       "      <td>0.514420</td>\n",
       "      <td>0.240063</td>\n",
       "      <td>0.017147</td>\n",
       "      <td>0</td>\n",
       "    </tr>\n",
       "    <tr>\n",
       "      <th>2</th>\n",
       "      <td>0.807796</td>\n",
       "      <td>0.538530</td>\n",
       "      <td>0.237587</td>\n",
       "      <td>0.031678</td>\n",
       "      <td>0</td>\n",
       "    </tr>\n",
       "    <tr>\n",
       "      <th>3</th>\n",
       "      <td>0.860939</td>\n",
       "      <td>0.440035</td>\n",
       "      <td>0.248716</td>\n",
       "      <td>0.057396</td>\n",
       "      <td>0</td>\n",
       "    </tr>\n",
       "    <tr>\n",
       "      <th>4</th>\n",
       "      <td>0.798370</td>\n",
       "      <td>0.557353</td>\n",
       "      <td>0.225954</td>\n",
       "      <td>0.030127</td>\n",
       "      <td>0</td>\n",
       "    </tr>\n",
       "    <tr>\n",
       "      <th>5</th>\n",
       "      <td>0.808466</td>\n",
       "      <td>0.522134</td>\n",
       "      <td>0.269489</td>\n",
       "      <td>0.033686</td>\n",
       "      <td>0</td>\n",
       "    </tr>\n",
       "    <tr>\n",
       "      <th>6</th>\n",
       "      <td>0.805978</td>\n",
       "      <td>0.521515</td>\n",
       "      <td>0.268659</td>\n",
       "      <td>0.079017</td>\n",
       "      <td>0</td>\n",
       "    </tr>\n",
       "    <tr>\n",
       "      <th>7</th>\n",
       "      <td>0.766939</td>\n",
       "      <td>0.571445</td>\n",
       "      <td>0.285722</td>\n",
       "      <td>0.060152</td>\n",
       "      <td>0</td>\n",
       "    </tr>\n",
       "    <tr>\n",
       "      <th>8</th>\n",
       "      <td>0.825123</td>\n",
       "      <td>0.528079</td>\n",
       "      <td>0.198030</td>\n",
       "      <td>0.033005</td>\n",
       "      <td>0</td>\n",
       "    </tr>\n",
       "    <tr>\n",
       "      <th>9</th>\n",
       "      <td>0.790965</td>\n",
       "      <td>0.569495</td>\n",
       "      <td>0.221470</td>\n",
       "      <td>0.031639</td>\n",
       "      <td>0</td>\n",
       "    </tr>\n",
       "  </tbody>\n",
       "</table>\n",
       "</div>"
      ],
      "text/plain": [
       "   Feature_0  Feature_1  Feature_2  Feature_3  Target\n",
       "0   0.816094   0.533600   0.219718   0.031388       0\n",
       "1   0.823072   0.514420   0.240063   0.017147       0\n",
       "2   0.807796   0.538530   0.237587   0.031678       0\n",
       "3   0.860939   0.440035   0.248716   0.057396       0\n",
       "4   0.798370   0.557353   0.225954   0.030127       0\n",
       "5   0.808466   0.522134   0.269489   0.033686       0\n",
       "6   0.805978   0.521515   0.268659   0.079017       0\n",
       "7   0.766939   0.571445   0.285722   0.060152       0\n",
       "8   0.825123   0.528079   0.198030   0.033005       0\n",
       "9   0.790965   0.569495   0.221470   0.031639       0"
      ]
     },
     "execution_count": 58,
     "metadata": {},
     "output_type": "execute_result"
    }
   ],
   "source": [
    "df.head(10) "
   ]
  },
  {
   "cell_type": "markdown",
   "id": "f0a2d9d8-e81a-4444-b9f2-d2e7c83ecb79",
   "metadata": {},
   "source": [
    "##### 5) Next, the data needs shuffled. Shuffling the data helps reduce bias when training. We don't want to have our training set missing any labels! Use numpy to shuffle the rows within the dataset."
   ]
  },
  {
   "cell_type": "code",
   "execution_count": 9,
   "id": "f82b8746-6a31-47ff-83d2-e6b0c7e32098",
   "metadata": {},
   "outputs": [
    {
     "data": {
      "text/plain": [
       "array([[0.82512295, 0.52807869, 0.19802951, 0.03300492, 0.        ],\n",
       "       [0.74088576, 0.33173989, 0.55289982, 0.18798594, 1.        ],\n",
       "       [0.7646727 , 0.31486523, 0.53976896, 0.15743261, 1.        ],\n",
       "       [0.80003025, 0.53915082, 0.26087943, 0.03478392, 0.        ],\n",
       "       [0.72337118, 0.34195729, 0.57869695, 0.15782644, 1.        ],\n",
       "       [0.69804799, 0.33811699, 0.59988499, 0.196326  , 2.        ],\n",
       "       [0.78892752, 0.28927343, 0.52595168, 0.13148792, 1.        ],\n",
       "       [0.71578999, 0.34430405, 0.5798805 , 0.18121266, 2.        ],\n",
       "       [0.76693897, 0.57144472, 0.28572236, 0.06015208, 0.        ],\n",
       "       [0.70953708, 0.28008043, 0.61617694, 0.1960563 , 2.        ],\n",
       "       [0.82225028, 0.51771314, 0.22840286, 0.06090743, 0.        ],\n",
       "       [0.77242925, 0.33706003, 0.51963422, 0.14044168, 1.        ],\n",
       "       [0.68914871, 0.33943145, 0.58629069, 0.25714504, 2.        ],\n",
       "       [0.73350949, 0.35452959, 0.55013212, 0.18337737, 1.        ],\n",
       "       [0.69276796, 0.31889319, 0.61579374, 0.1979337 , 2.        ],\n",
       "       [0.80779568, 0.53853046, 0.23758697, 0.03167826, 0.        ],\n",
       "       [0.71653899, 0.3307103 , 0.57323119, 0.22047353, 2.        ],\n",
       "       [0.71529453, 0.31790868, 0.59607878, 0.17882363, 2.        ],\n",
       "       [0.76578311, 0.60379053, 0.22089897, 0.0147266 , 0.        ],\n",
       "       [0.77011854, 0.35349703, 0.50499576, 0.16412362, 1.        ],\n",
       "       [0.71524935, 0.40530797, 0.53643702, 0.19073316, 1.        ],\n",
       "       [0.68307923, 0.34153961, 0.59769432, 0.24395687, 2.        ],\n",
       "       [0.70610474, 0.3258945 , 0.59747324, 0.1955367 , 2.        ],\n",
       "       [0.7431482 , 0.36505526, 0.5345452 , 0.16948994, 1.        ],\n",
       "       [0.80212413, 0.54690282, 0.23699122, 0.03646019, 0.        ],\n",
       "       [0.77729093, 0.57915794, 0.24385598, 0.030482  , 0.        ],\n",
       "       [0.69594002, 0.30447376, 0.60894751, 0.22835532, 2.        ],\n",
       "       [0.82647451, 0.4958847 , 0.26447184, 0.03305898, 0.        ],\n",
       "       [0.79594782, 0.55370283, 0.24224499, 0.03460643, 0.        ],\n",
       "       [0.72232962, 0.35482858, 0.57026022, 0.16474184, 1.        ],\n",
       "       [0.77867447, 0.59462414, 0.19820805, 0.02831543, 0.        ],\n",
       "       [0.69385414, 0.29574111, 0.63698085, 0.15924521, 2.        ],\n",
       "       [0.69333409, 0.38518561, 0.57777841, 0.1925928 , 1.        ],\n",
       "       [0.72460234, 0.37623583, 0.54345175, 0.19508524, 1.        ],\n",
       "       [0.69193502, 0.32561648, 0.60035539, 0.23403684, 2.        ],\n",
       "       [0.75384916, 0.31524601, 0.54825394, 0.17818253, 1.        ],\n",
       "       [0.86093857, 0.44003527, 0.24871559, 0.0573959 , 0.        ],\n",
       "       [0.76262994, 0.34186859, 0.52595168, 0.1577855 , 1.        ],\n",
       "       [0.80597792, 0.52151512, 0.26865931, 0.07901744, 0.        ],\n",
       "       [0.76434981, 0.35581802, 0.51395936, 0.15814134, 1.        ],\n",
       "       [0.71414125, 0.26647062, 0.61821183, 0.19185884, 2.        ],\n",
       "       [0.69299099, 0.34199555, 0.60299216, 0.19799743, 2.        ],\n",
       "       [0.71491405, 0.30207636, 0.59408351, 0.21145345, 2.        ],\n",
       "       [0.73239618, 0.38547167, 0.53966034, 0.15418867, 1.        ],\n",
       "       [0.71718148, 0.31640359, 0.58007326, 0.22148252, 2.        ],\n",
       "       [0.7581754 , 0.32659863, 0.5365549 , 0.17496355, 1.        ],\n",
       "       [0.78523221, 0.5769053 , 0.22435206, 0.01602515, 0.        ],\n",
       "       [0.80218492, 0.54548575, 0.24065548, 0.0320874 , 0.        ],\n",
       "       [0.68619022, 0.31670318, 0.61229281, 0.232249  , 2.        ],\n",
       "       [0.80641965, 0.54278246, 0.23262105, 0.03101614, 0.        ],\n",
       "       [0.71562645, 0.3523084 , 0.56149152, 0.22019275, 2.        ],\n",
       "       [0.78258054, 0.38361791, 0.46034149, 0.16879188, 1.        ],\n",
       "       [0.69052512, 0.32145135, 0.60718589, 0.22620651, 2.        ],\n",
       "       [0.71171214, 0.35002236, 0.57170319, 0.21001342, 2.        ],\n",
       "       [0.67017484, 0.36168166, 0.59571097, 0.2553047 , 2.        ],\n",
       "       [0.82307218, 0.51442011, 0.24006272, 0.01714734, 0.        ],\n",
       "       [0.74714194, 0.33960997, 0.54337595, 0.17659718, 1.        ],\n",
       "       [0.81228363, 0.5361072 , 0.22743942, 0.03249134, 0.        ],\n",
       "       [0.79778206, 0.5424918 , 0.25529026, 0.06382256, 0.        ],\n",
       "       [0.79837025, 0.55735282, 0.22595384, 0.03012718, 0.        ],\n",
       "       [0.78609038, 0.57170209, 0.23225398, 0.03573138, 0.        ],\n",
       "       [0.8068282 , 0.53788547, 0.24063297, 0.04246464, 0.        ],\n",
       "       [0.70631892, 0.37838513, 0.5675777 , 0.18919257, 1.        ],\n",
       "       [0.80533307, 0.54831188, 0.2227517 , 0.03426949, 0.        ],\n",
       "       [0.78417499, 0.5663486 , 0.2468699 , 0.05808704, 0.        ],\n",
       "       [0.80846584, 0.52213419, 0.26948861, 0.03368608, 0.        ],\n",
       "       [0.73446047, 0.37367287, 0.5411814 , 0.16750853, 1.        ],\n",
       "       [0.69052512, 0.32145135, 0.60718589, 0.22620651, 2.        ],\n",
       "       [0.71486543, 0.25995106, 0.62202576, 0.18567933, 2.        ],\n",
       "       [0.81609427, 0.5336001 , 0.21971769, 0.03138824, 0.        ],\n",
       "       [0.77381111, 0.59732787, 0.2036345 , 0.05430253, 0.        ],\n",
       "       [0.80373519, 0.55070744, 0.22325977, 0.02976797, 0.        ],\n",
       "       [0.75911707, 0.3931142 , 0.48800383, 0.17622361, 1.        ],\n",
       "       [0.82210585, 0.51381615, 0.23978087, 0.05138161, 0.        ],\n",
       "       [0.78010936, 0.57660257, 0.23742459, 0.0508767 , 0.        ],\n",
       "       [0.73544283, 0.35458851, 0.55158213, 0.1707278 , 1.        ],\n",
       "       [0.82813287, 0.50702013, 0.23660939, 0.03380134, 0.        ],\n",
       "       [0.69198788, 0.34599394, 0.58626751, 0.24027357, 2.        ],\n",
       "       [0.75457341, 0.34913098, 0.52932761, 0.16893435, 1.        ],\n",
       "       [0.72712585, 0.26661281, 0.60593821, 0.18178146, 2.        ],\n",
       "       [0.67054118, 0.34211284, 0.61580312, 0.23263673, 2.        ],\n",
       "       [0.79428944, 0.57365349, 0.19121783, 0.05883625, 0.        ],\n",
       "       [0.73122464, 0.31338199, 0.56873028, 0.20892133, 2.        ],\n",
       "       [0.786991  , 0.55745196, 0.26233033, 0.03279129, 0.        ],\n",
       "       [0.73337886, 0.32948905, 0.54206264, 0.24445962, 2.        ],\n",
       "       [0.776114  , 0.54974742, 0.30721179, 0.03233808, 0.        ],\n",
       "       [0.77577075, 0.60712493, 0.16864581, 0.03372916, 0.        ],\n",
       "       [0.74549757, 0.37274878, 0.52417798, 0.17472599, 1.        ],\n",
       "       [0.72992443, 0.39103094, 0.53440896, 0.16944674, 1.        ],\n",
       "       [0.72785195, 0.32870733, 0.56349829, 0.21131186, 2.        ],\n",
       "       [0.69025916, 0.35097923, 0.5966647 , 0.21058754, 2.        ],\n",
       "       [0.76301853, 0.33526572, 0.53180079, 0.15029153, 1.        ],\n",
       "       [0.76701103, 0.35063361, 0.51499312, 0.15340221, 1.        ],\n",
       "       [0.70779525, 0.31850786, 0.60162596, 0.1887454 , 1.        ],\n",
       "       [0.82699754, 0.52627116, 0.19547215, 0.03007264, 0.        ],\n",
       "       [0.69417746, 0.30370264, 0.60740528, 0.2386235 , 2.        ],\n",
       "       [0.73659895, 0.33811099, 0.56754345, 0.14490471, 1.        ],\n",
       "       [0.76521855, 0.33391355, 0.52869645, 0.15304371, 1.        ],\n",
       "       [0.8025126 , 0.55989251, 0.20529392, 0.01866308, 0.        ],\n",
       "       [0.80642366, 0.5315065 , 0.25658935, 0.03665562, 0.        ],\n",
       "       [0.75676497, 0.35228714, 0.53495455, 0.13047672, 1.        ],\n",
       "       [0.70558934, 0.32722984, 0.58287815, 0.23519645, 2.        ],\n",
       "       [0.76785726, 0.34902603, 0.51190484, 0.16287881, 1.        ],\n",
       "       [0.73089855, 0.30454106, 0.58877939, 0.1624219 , 2.        ],\n",
       "       [0.8173379 , 0.51462016, 0.25731008, 0.03027177, 0.        ],\n",
       "       [0.71066905, 0.35533453, 0.56853524, 0.21320072, 2.        ],\n",
       "       [0.76185188, 0.34011245, 0.53057542, 0.14964948, 1.        ],\n",
       "       [0.7698688 , 0.35413965, 0.50811341, 0.15397376, 1.        ],\n",
       "       [0.80327412, 0.55126655, 0.22050662, 0.04725142, 0.        ],\n",
       "       [0.69595601, 0.3427843 , 0.59208198, 0.21813547, 2.        ],\n",
       "       [0.69589887, 0.34794944, 0.57629126, 0.25008866, 2.        ],\n",
       "       [0.73081412, 0.34743622, 0.56308629, 0.16772783, 1.        ],\n",
       "       [0.73154398, 0.28501714, 0.57953485, 0.21851314, 2.        ],\n",
       "       [0.81120865, 0.55945424, 0.16783627, 0.02797271, 0.        ],\n",
       "       [0.80377277, 0.55160877, 0.22064351, 0.0315205 , 0.        ],\n",
       "       [0.72366005, 0.32162669, 0.58582004, 0.17230001, 2.        ],\n",
       "       [0.790965  , 0.5694948 , 0.2214702 , 0.0316386 , 0.        ],\n",
       "       [0.65387747, 0.34250725, 0.62274045, 0.25947519, 2.        ],\n",
       "       [0.71366557, 0.28351098, 0.61590317, 0.17597233, 2.        ],\n",
       "       [0.76444238, 0.27125375, 0.55483721, 0.18494574, 1.        ],\n",
       "       [0.73260391, 0.36029701, 0.55245541, 0.1681386 , 1.        ],\n",
       "       [0.72766159, 0.27533141, 0.59982915, 0.18683203, 2.        ],\n",
       "       [0.76945445, 0.35601624, 0.50531337, 0.16078153, 1.        ],\n",
       "       [0.73923462, 0.37588201, 0.52623481, 0.187941  , 1.        ]])"
      ]
     },
     "execution_count": 9,
     "metadata": {},
     "output_type": "execute_result"
    }
   ],
   "source": [
    "np.random.seed(0) \n",
    "#good practice to seed before shuffling so that when you come back to work on your problem, \n",
    "#you get the same consistent shuffle the next time. Otherwise, if you close the notebook and go to rerun later,\n",
    "#you won't get the same results. When we are trying to generalize the model, we want our data to be mixed\n",
    "#but consistent too otherwise you will have leaking between your training and test which isn't good for finding a good generalized model\n",
    "\n",
    "# random sample from the data\n",
    "# includes all the rows in random order\n",
    "\n",
    "# Convert dataframe into numpy array\n",
    "data=df.to_numpy()\n",
    "indices = np.arange(data.shape[0])\n",
    "\n",
    "np.random.shuffle(indices)\n",
    "data=data[indices]\n",
    "data\n"
   ]
  },
  {
   "cell_type": "code",
   "execution_count": 10,
   "id": "29c4da07",
   "metadata": {},
   "outputs": [
    {
     "data": {
      "text/plain": [
       "(array([[0.69589887, 0.34794944, 0.57629126, 0.25008866],\n",
       "        [0.75457341, 0.34913098, 0.52932761, 0.16893435],\n",
       "        [0.76262994, 0.34186859, 0.52595168, 0.1577855 ],\n",
       "        [0.73544283, 0.35458851, 0.55158213, 0.1707278 ],\n",
       "        [0.69595601, 0.3427843 , 0.59208198, 0.21813547],\n",
       "        [0.80373519, 0.55070744, 0.22325977, 0.02976797],\n",
       "        [0.76945445, 0.35601624, 0.50531337, 0.16078153],\n",
       "        [0.82210585, 0.51381615, 0.23978087, 0.05138161],\n",
       "        [0.80218492, 0.54548575, 0.24065548, 0.0320874 ],\n",
       "        [0.70953708, 0.28008043, 0.61617694, 0.1960563 ],\n",
       "        [0.74549757, 0.37274878, 0.52417798, 0.17472599],\n",
       "        [0.71529453, 0.31790868, 0.59607878, 0.17882363],\n",
       "        [0.73337886, 0.32948905, 0.54206264, 0.24445962],\n",
       "        [0.71486543, 0.25995106, 0.62202576, 0.18567933],\n",
       "        [0.79594782, 0.55370283, 0.24224499, 0.03460643],\n",
       "        [0.68619022, 0.31670318, 0.61229281, 0.232249  ],\n",
       "        [0.69193502, 0.32561648, 0.60035539, 0.23403684],\n",
       "        [0.73154398, 0.28501714, 0.57953485, 0.21851314],\n",
       "        [0.76434981, 0.35581802, 0.51395936, 0.15814134],\n",
       "        [0.76693897, 0.57144472, 0.28572236, 0.06015208],\n",
       "        [0.76444238, 0.27125375, 0.55483721, 0.18494574],\n",
       "        [0.65387747, 0.34250725, 0.62274045, 0.25947519],\n",
       "        [0.69025916, 0.35097923, 0.5966647 , 0.21058754],\n",
       "        [0.73923462, 0.37588201, 0.52623481, 0.187941  ],\n",
       "        [0.69804799, 0.33811699, 0.59988499, 0.196326  ],\n",
       "        [0.70610474, 0.3258945 , 0.59747324, 0.1955367 ],\n",
       "        [0.76785726, 0.34902603, 0.51190484, 0.16287881],\n",
       "        [0.73260391, 0.36029701, 0.55245541, 0.1681386 ],\n",
       "        [0.68914871, 0.33943145, 0.58629069, 0.25714504],\n",
       "        [0.73089855, 0.30454106, 0.58877939, 0.1624219 ],\n",
       "        [0.82307218, 0.51442011, 0.24006272, 0.01714734],\n",
       "        [0.71718148, 0.31640359, 0.58007326, 0.22148252],\n",
       "        [0.70558934, 0.32722984, 0.58287815, 0.23519645],\n",
       "        [0.786991  , 0.55745196, 0.26233033, 0.03279129],\n",
       "        [0.71366557, 0.28351098, 0.61590317, 0.17597233],\n",
       "        [0.80533307, 0.54831188, 0.2227517 , 0.03426949],\n",
       "        [0.80641965, 0.54278246, 0.23262105, 0.03101614],\n",
       "        [0.74088576, 0.33173989, 0.55289982, 0.18798594],\n",
       "        [0.71066905, 0.35533453, 0.56853524, 0.21320072],\n",
       "        [0.70779525, 0.31850786, 0.60162596, 0.1887454 ],\n",
       "        [0.81609427, 0.5336001 , 0.21971769, 0.03138824],\n",
       "        [0.7581754 , 0.32659863, 0.5365549 , 0.17496355],\n",
       "        [0.76185188, 0.34011245, 0.53057542, 0.14964948],\n",
       "        [0.76578311, 0.60379053, 0.22089897, 0.0147266 ],\n",
       "        [0.7698688 , 0.35413965, 0.50811341, 0.15397376],\n",
       "        [0.80779568, 0.53853046, 0.23758697, 0.03167826],\n",
       "        [0.82813287, 0.50702013, 0.23660939, 0.03380134],\n",
       "        [0.71578999, 0.34430405, 0.5798805 , 0.18121266],\n",
       "        [0.72366005, 0.32162669, 0.58582004, 0.17230001],\n",
       "        [0.69385414, 0.29574111, 0.63698085, 0.15924521],\n",
       "        [0.78417499, 0.5663486 , 0.2468699 , 0.05808704],\n",
       "        [0.78892752, 0.28927343, 0.52595168, 0.13148792],\n",
       "        [0.8173379 , 0.51462016, 0.25731008, 0.03027177],\n",
       "        [0.73659895, 0.33811099, 0.56754345, 0.14490471],\n",
       "        [0.73081412, 0.34743622, 0.56308629, 0.16772783],\n",
       "        [0.72460234, 0.37623583, 0.54345175, 0.19508524],\n",
       "        [0.72712585, 0.26661281, 0.60593821, 0.18178146],\n",
       "        [0.71171214, 0.35002236, 0.57170319, 0.21001342],\n",
       "        [0.69417746, 0.30370264, 0.60740528, 0.2386235 ],\n",
       "        [0.81228363, 0.5361072 , 0.22743942, 0.03249134],\n",
       "        [0.72992443, 0.39103094, 0.53440896, 0.16944674],\n",
       "        [0.77381111, 0.59732787, 0.2036345 , 0.05430253],\n",
       "        [0.77729093, 0.57915794, 0.24385598, 0.030482  ],\n",
       "        [0.76301853, 0.33526572, 0.53180079, 0.15029153],\n",
       "        [0.68307923, 0.34153961, 0.59769432, 0.24395687],\n",
       "        [0.72232962, 0.35482858, 0.57026022, 0.16474184],\n",
       "        [0.776114  , 0.54974742, 0.30721179, 0.03233808],\n",
       "        [0.71653899, 0.3307103 , 0.57323119, 0.22047353],\n",
       "        [0.72785195, 0.32870733, 0.56349829, 0.21131186],\n",
       "        [0.75676497, 0.35228714, 0.53495455, 0.13047672],\n",
       "        [0.78010936, 0.57660257, 0.23742459, 0.0508767 ],\n",
       "        [0.72337118, 0.34195729, 0.57869695, 0.15782644],\n",
       "        [0.80327412, 0.55126655, 0.22050662, 0.04725142],\n",
       "        [0.8068282 , 0.53788547, 0.24063297, 0.04246464],\n",
       "        [0.790965  , 0.5694948 , 0.2214702 , 0.0316386 ],\n",
       "        [0.69052512, 0.32145135, 0.60718589, 0.22620651],\n",
       "        [0.73446047, 0.37367287, 0.5411814 , 0.16750853],\n",
       "        [0.69594002, 0.30447376, 0.60894751, 0.22835532],\n",
       "        [0.76521855, 0.33391355, 0.52869645, 0.15304371],\n",
       "        [0.76701103, 0.35063361, 0.51499312, 0.15340221],\n",
       "        [0.75911707, 0.3931142 , 0.48800383, 0.17622361],\n",
       "        [0.71414125, 0.26647062, 0.61821183, 0.19185884],\n",
       "        [0.73350949, 0.35452959, 0.55013212, 0.18337737],\n",
       "        [0.80003025, 0.53915082, 0.26087943, 0.03478392],\n",
       "        [0.81120865, 0.55945424, 0.16783627, 0.02797271],\n",
       "        [0.80212413, 0.54690282, 0.23699122, 0.03646019],\n",
       "        [0.77867447, 0.59462414, 0.19820805, 0.02831543],\n",
       "        [0.69198788, 0.34599394, 0.58626751, 0.24027357],\n",
       "        [0.78609038, 0.57170209, 0.23225398, 0.03573138],\n",
       "        [0.74714194, 0.33960997, 0.54337595, 0.17659718],\n",
       "        [0.71491405, 0.30207636, 0.59408351, 0.21145345],\n",
       "        [0.80377277, 0.55160877, 0.22064351, 0.0315205 ],\n",
       "        [0.77011854, 0.35349703, 0.50499576, 0.16412362],\n",
       "        [0.80597792, 0.52151512, 0.26865931, 0.07901744],\n",
       "        [0.82512295, 0.52807869, 0.19802951, 0.03300492],\n",
       "        [0.67017484, 0.36168166, 0.59571097, 0.2553047 ],\n",
       "        [0.69333409, 0.38518561, 0.57777841, 0.1925928 ],\n",
       "        [0.67054118, 0.34211284, 0.61580312, 0.23263673],\n",
       "        [0.78258054, 0.38361791, 0.46034149, 0.16879188],\n",
       "        [0.72766159, 0.27533141, 0.59982915, 0.18683203],\n",
       "        [0.77242925, 0.33706003, 0.51963422, 0.14044168],\n",
       "        [0.73239618, 0.38547167, 0.53966034, 0.15418867],\n",
       "        [0.77577075, 0.60712493, 0.16864581, 0.03372916],\n",
       "        [0.82225028, 0.51771314, 0.22840286, 0.06090743],\n",
       "        [0.86093857, 0.44003527, 0.24871559, 0.0573959 ],\n",
       "        [0.80846584, 0.52213419, 0.26948861, 0.03368608],\n",
       "        [0.79778206, 0.5424918 , 0.25529026, 0.06382256],\n",
       "        [0.69299099, 0.34199555, 0.60299216, 0.19799743],\n",
       "        [0.69276796, 0.31889319, 0.61579374, 0.1979337 ],\n",
       "        [0.82647451, 0.4958847 , 0.26447184, 0.03305898],\n",
       "        [0.71562645, 0.3523084 , 0.56149152, 0.22019275],\n",
       "        [0.79428944, 0.57365349, 0.19121783, 0.05883625],\n",
       "        [0.71524935, 0.40530797, 0.53643702, 0.19073316],\n",
       "        [0.80642366, 0.5315065 , 0.25658935, 0.03665562],\n",
       "        [0.78523221, 0.5769053 , 0.22435206, 0.01602515],\n",
       "        [0.73122464, 0.31338199, 0.56873028, 0.20892133],\n",
       "        [0.69052512, 0.32145135, 0.60718589, 0.22620651],\n",
       "        [0.82699754, 0.52627116, 0.19547215, 0.03007264],\n",
       "        [0.75384916, 0.31524601, 0.54825394, 0.17818253],\n",
       "        [0.70631892, 0.37838513, 0.5675777 , 0.18919257],\n",
       "        [0.8025126 , 0.55989251, 0.20529392, 0.01866308],\n",
       "        [0.7646727 , 0.31486523, 0.53976896, 0.15743261],\n",
       "        [0.79837025, 0.55735282, 0.22595384, 0.03012718],\n",
       "        [0.7431482 , 0.36505526, 0.5345452 , 0.16948994]]),\n",
       " array([2., 1., 1., 1., 2., 0., 1., 0., 0., 2., 1., 2., 2., 2., 0., 2., 2.,\n",
       "        2., 1., 0., 1., 2., 2., 1., 2., 2., 1., 1., 2., 2., 0., 2., 2., 0.,\n",
       "        2., 0., 0., 1., 2., 1., 0., 1., 1., 0., 1., 0., 0., 2., 2., 2., 0.,\n",
       "        1., 0., 1., 1., 1., 2., 2., 2., 0., 1., 0., 0., 1., 2., 1., 0., 2.,\n",
       "        2., 1., 0., 1., 0., 0., 0., 2., 1., 2., 1., 1., 1., 2., 1., 0., 0.,\n",
       "        0., 0., 2., 0., 1., 2., 0., 1., 0., 0., 2., 1., 2., 1., 2., 1., 1.,\n",
       "        0., 0., 0., 0., 0., 2., 2., 0., 2., 0., 1., 0., 0., 2., 2., 0., 1.,\n",
       "        1., 0., 1., 0., 1.]))"
      ]
     },
     "execution_count": 10,
     "metadata": {},
     "output_type": "execute_result"
    }
   ],
   "source": [
    "# Get features\n",
    "X = data[:, :-1]\n",
    "\n",
    "# Get Labels\n",
    "y = data[:, -1]\n",
    "\n",
    "# Shuffle data\n",
    "# Generate a shuffled array of indices\n",
    "indices = np.arange(data.shape[0])\n",
    "\n",
    "np.random.shuffle(indices)\n",
    "\n",
    "# Shuffle the data and labels according to the shuffled indices\n",
    "X_shuffled = X[indices]\n",
    "y_shuffled = y[indices]\n",
    "X_shuffled,y_shuffled"
   ]
  },
  {
   "cell_type": "markdown",
   "id": "812bb797-98ca-4cb2-8fed-e5a163b3c724",
   "metadata": {
    "tags": []
   },
   "source": [
    "##### 6) We need to split the dataset into a training and test set. The training data is what you will give to the classifier for it to learn from. The test set inputs will then be driven into the trained classifier so we can compare the results that the classifier gives to the actual output labels. Create a numpy array *training* and *test* where *training* contains 80% of the dataset and *test* contains 20% of the dataset."
   ]
  },
  {
   "cell_type": "code",
   "execution_count": 11,
   "id": "c031a512-d3bb-4552-90aa-add4ef0c8ca6",
   "metadata": {
    "scrolled": true
   },
   "outputs": [
    {
     "name": "stdout",
     "output_type": "stream",
     "text": [
      "(100, 5)\n",
      "(24, 5)\n"
     ]
    }
   ],
   "source": [
    "#Your code here\n",
    "ratio = 0.8\n",
    " \n",
    "total_rows = data.shape[0]\n",
    "train_size = math.ceil(total_rows*ratio)\n",
    " \n",
    "# Split data into test and train\n",
    "train = (data[0:train_size])\n",
    "test = (data[train_size:])\n",
    "\n",
    "#lastly, check the shape of test to make sure we didn't lose any data (total between train and test should be 124)\n",
    "print(train.shape)\n",
    "print(test.shape)\n",
    "\n"
   ]
  },
  {
   "cell_type": "markdown",
   "id": "ceda236d-f06f-4e46-92db-70f69c2e7699",
   "metadata": {},
   "source": [
    "The dataset here contains features in the first 4 columns (0 through 3, inclusive). \n",
    "\n",
    "In the very last column is our class labels, [0,1,2]. Since we've obscured the dataset before giving it to you, you can give these any context you'd like. For instance, 0 could identify the color red, 1 could identify the color blue, and 2 could identify the color green; we've just given the real label a numerical representation that can be mapped back at a later time. \n",
    "\n",
    "This same logic also applies to the feature columns which were transformed using a method called normalization. Normalizing the data makes the scale more uniform and generally makes machine learning algorithms perform better.\n",
    "\n",
    "##### 7) Both the *training* data and *test* data need split column wise such that we have four numpy arrays, *training_features*, *training_labels*, *test_features*, and *test_labels*. This is done so that we can feed the algorithm the inputs (features) and outputs (labels, the thing we can to guess) separately. \n",
    "*Hint: Make sure your training and test label arrays have dimensions (100,1) and (24,1)*"
   ]
  },
  {
   "cell_type": "code",
   "execution_count": 48,
   "id": "1d2ce0ab-90da-4880-8593-a74e153b4f33",
   "metadata": {},
   "outputs": [
    {
     "name": "stdout",
     "output_type": "stream",
     "text": [
      "(100, 4)\n",
      "(100,)\n",
      "(24, 4)\n",
      "(24,)\n"
     ]
    }
   ],
   "source": [
    "#Your code here\n",
    "# Get features\n",
    "training_features = train[:, :-1]\n",
    "test_features = test[:, :-1]\n",
    "\n",
    "# Get Labels\n",
    "training_labels = train[:, -1]\n",
    "test_labels = test[:, -1]\n",
    "\n",
    "#Check dimensions (For math things later)\n",
    "print(training_features.shape)\n",
    "print(training_labels.shape)\n",
    "print(test_features.shape)\n",
    "print(test_labels.shape)\n"
   ]
  },
  {
   "cell_type": "markdown",
   "id": "4ed95430-8b23-492e-97c2-bcf8f4066f28",
   "metadata": {},
   "source": [
    "##### 8) Now that we have our data prepared, we can feed it into our Naive Bayes Classifier to be trained! Oh, but we need a classifier first. Build a Naive Bayes Classifier by filling in the methods below (you may add methods, additional parameters, and class variables as you see fit):\n",
    "*Hint: We no longer have a discerete set of values for our features, which makes this a bit different from our initial example. Since this data set is continuous, we make an alterations to our probability function by using a <a href=\"https://scikit-learn.org/stable/modules/naive_bayes.html\">Guassian Distribution</a>*\n",
    "$$\n",
    "P(x_i|c)=\\frac{1}{\\sqrt{2\\pi\\sigma^2_c}}\\text{exp}(-\\frac{(x_i-\\mu_c)^2}{2\\sigma^2_c})\n",
    "$$\n",
    "Where σ is the standard deviation and µ is the mean of a feature."
   ]
  },
  {
   "cell_type": "code",
   "execution_count": 76,
   "id": "4643c16d-8024-49bc-a983-9b14899f7a4d",
   "metadata": {},
   "outputs": [],
   "source": [
    "#Edit this class however you please. We gave it some structure to make problem solving a bit quicker on your end.\n",
    "#If you envision the setup a certain way and can improve on it, go for it!\n",
    "#As long as the algorithm works and the class is well documented, that's good enough for us!\n",
    "#info = train.describe(include=\"all\")\n",
    "#info.to_numpy()\n",
    "\n",
    "class NaiveBayes:\n",
    "    means={} #means of each classes features\n",
    "    stdDev={} #standard deviations of each classes features\n",
    "    variances={} #variances of each classes features\n",
    "    labels = {} #Our unique labels\n",
    "    rowsInSet = {} #Dictionary containing how many of each label we have\n",
    "    classProb = {} #Contains the probability of every class occurence\n",
    "    \n",
    "    def initialize(self,features, labels):\n",
    "        X=features\n",
    "        y=labels\n",
    "        n_samples, n_features = features.shape\n",
    "        self.labels = np.unique(labels)\n",
    "        n_classes = len(self.labels)\n",
    "        # Initialize mean, variance, and priors\n",
    "        self.means = np.zeros((n_classes, n_features), dtype=np.float64)\n",
    "        self.variances = np.zeros((n_classes, n_features), dtype=np.float64)\n",
    "        self.stdDev = np.zeros((n_classes, n_features), dtype=np.float64)\n",
    "        self.priors = np.zeros(n_classes, dtype=np.float64)\n",
    "        datasetsByLabel=self.splitByLabel(features, labels)\n",
    "        for idx, c in enumerate(self.labels):\n",
    "            #X_c = X[y == c] # Create datasets by label/target\n",
    "            X_c=datasetsByLabel[idx]\n",
    "            self.means[idx] = X_c.mean(axis=0)\n",
    "            self.variances[idx] = X_c.var(axis=0)\n",
    "            self.stdDev[idx] = X_c.std(axis=0)\n",
    "            self.priors[idx] = X_c.shape[0] / float(n_samples) # prob. of feature X_c in n_samples\n",
    "            print(\"Prior Prob. for {} is {}\".format(X_c.shape[0],self.priors[idx]))\n",
    "        print(\"StdDev: {}\".format(self.stdDev))\n",
    "        print(\"Means: {}\".format(self.means))\n",
    "       \n",
    "      \n",
    "    def splitByLabel(self, features, labels):\n",
    "        X=features\n",
    "        y=labels\n",
    "        #Get the subsets of data for each unique class/label\n",
    "        #return the dictionary of those sets\n",
    "        datasetsByLabel = {} #Dictionary containing all the subsets\n",
    "        datasetsByLabel = {label: X[y == label] for label in self.labels}\n",
    "        return datasetsByLabel\n",
    "    \n",
    "    def guassianProbabilityCalc(self, feature, mean, stdDev):\n",
    "        #Calculate class probability using guassian distribution\n",
    "        numerator = np.exp(-(feature-mean)**2 / (2 * np.power(stdDev, 2)))\n",
    "        denominator = np.sqrt(2*math.pi*(stdDev)**2) \n",
    "        return numerator / denominator\n",
    "        \n",
    "    def getClassProbability(self, classindex, inputFeatureVector):\n",
    "        #predict the probability of every class for the given input (a single row of data with 4 features)\n",
    "        #Reference the MAP product rule\n",
    "        classProbForInput = {}\n",
    "        x = inputFeatureVector\n",
    "        mean = self.means[classindex]\n",
    "        var = self.variances[classindex]\n",
    "        stdDev = self.stdDev[classindex]\n",
    "        classProbForInput=self.guassianProbabilityCalc(x, mean, stdDev)\n",
    "        return classProbForInput\n",
    "    \n",
    "    def train(self, features, labels):\n",
    "        self.labels = np.unique(labels) #All of our unique class labels [0,1,2]\n",
    "        #Setups and stores the variables we need to do the MAP rule and make predictions\n",
    "        #Revisit the example and the guassian probability equation if you are stuck.\n",
    "        self.initialize(features,labels)\n",
    "    \n",
    "    def predict(self, features):\n",
    "        #Predict the labels for the inputs\n",
    "        output = [] #All of the output labels\n",
    "        #for x in features: \n",
    "        #Go through each row of data, make a prediction, append label to output \n",
    "        #(it should look like test_labels when you are done)\n",
    "        y_pred = [self._classify(x) for x in features]\n",
    "        print(\"Prediction: {}\".format(y_pred))\n",
    "        output = np.array(y_pred)\n",
    "        return output\n",
    "\n",
    "    def _classify(self, x):\n",
    "        posteriors = []\n",
    "        print(\"\\nPredicting for x={}\".format(x))\n",
    "        for idx, c in enumerate(self.labels):\n",
    "            prior = self.priors[idx]\n",
    "            class_conditional = np.prod(self.getClassProbability(idx,x))\n",
    "            posterior = prior * class_conditional\n",
    "            posteriors.append(posterior)\n",
    "        print(\"Posteriors are: {}\".format(posteriors))\n",
    "        return self.labels[np.argmax(posteriors)]\n"
   ]
  },
  {
   "cell_type": "code",
   "execution_count": 77,
   "id": "49603662-6f57-422a-87d0-3623f9ebf6dc",
   "metadata": {},
   "outputs": [
    {
     "name": "stdout",
     "output_type": "stream",
     "text": [
      "Prior Prob. for 38 is 0.38\n",
      "Prior Prob. for 31 is 0.31\n",
      "Prior Prob. for 31 is 0.31\n",
      "StdDev: [[0.01997094 0.03191703 0.0268326  0.01431536]\n",
      " [0.02286487 0.02655611 0.02699037 0.01579322]\n",
      " [0.01653269 0.02588383 0.02028419 0.02383319]]\n",
      "Means: [[0.80117565 0.54676792 0.23526913 0.03831973]\n",
      " [0.74511865 0.35312483 0.53817965 0.16810053]\n",
      " [0.70301395 0.32110342 0.59574564 0.21407554]]\n",
      "\n",
      "Predicting for x=[0.75676497 0.35228714 0.53495455 0.13047672]\n",
      "Posteriors are: [2.3558593205365005e-41, 1548.721414707788, 0.002221842828790585]\n",
      "\n",
      "Predicting for x=[0.70558934 0.32722984 0.58287815 0.23519645]\n",
      "Posteriors are: [6.796323725425492e-89, 0.12932408930902173, 20134.3337121862]\n",
      "\n",
      "Predicting for x=[0.76785726 0.34902603 0.51190484 0.16287881]\n",
      "Posteriors are: [1.363518428294263e-44, 10777.962385736906, 0.00018809861129969274]\n",
      "\n",
      "Predicting for x=[0.73089855 0.30454106 0.58877939 0.1624219 ]\n",
      "Posteriors are: [2.445714791452582e-65, 758.4866301054966, 671.5269121337701]\n",
      "\n",
      "Predicting for x=[0.8173379  0.51462016 0.25731008 0.03027177]\n",
      "Posteriors are: [10396.111176987812, 1.7049369445086244e-46, 4.941076849472176e-92]\n",
      "\n",
      "Predicting for x=[0.71066905 0.35533453 0.56853524 0.21320072]\n",
      "Posteriors are: [2.6237601479775986e-74, 87.51537504129847, 5779.589943299984]\n",
      "\n",
      "Predicting for x=[0.76185188 0.34011245 0.53057542 0.14964948]\n",
      "Posteriors are: [1.6400885455625727e-45, 9998.458721765084, 0.007648945988009713]\n",
      "\n",
      "Predicting for x=[0.7698688  0.35413965 0.50811341 0.15397376]\n",
      "Posteriors are: [3.356741052742192e-41, 6081.9050330680675, 1.7413410304378378e-05]\n",
      "\n",
      "Predicting for x=[0.80327412 0.55126655 0.22050662 0.04725142]\n",
      "Posteriors are: [27388.442858920887, 1.5586698039955007e-52, 2.9714593706828634e-106]\n",
      "\n",
      "Predicting for x=[0.69595601 0.3427843  0.59208198 0.21813547]\n",
      "Posteriors are: [1.091020158898385e-83, 2.5095313726916113, 23657.92057612661]\n",
      "\n",
      "Predicting for x=[0.69589887 0.34794944 0.57629126 0.25008866]\n",
      "Posteriors are: [3.4660176553478703e-93, 0.0015219876230687507, 4073.149360153895]\n",
      "\n",
      "Predicting for x=[0.73081412 0.34743622 0.56308629 0.16772783]\n",
      "Posteriors are: [1.8779381002664048e-57, 15922.163418700688, 227.21028966049764]\n",
      "\n",
      "Predicting for x=[0.73154398 0.28501714 0.57953485 0.21851314]\n",
      "Posteriors are: [1.5839097606633919e-83, 1.7981300214847311, 2313.9297905851604]\n",
      "\n",
      "Predicting for x=[0.81120865 0.55945424 0.16783627 0.02797271]\n",
      "Posteriors are: [1048.473235891619, 3.81470579194938e-69, 9.751765187995637e-134]\n",
      "\n",
      "Predicting for x=[0.80377277 0.55160877 0.22064351 0.0315205 ]\n",
      "Posteriors are: [29673.577551388957, 4.2379476323244475e-56, 1.974124775781208e-108]\n",
      "\n",
      "Predicting for x=[0.72366005 0.32162669 0.58582004 0.17230001]\n",
      "Posteriors are: [2.723665310248963e-66, 1964.9833488950637, 3321.9836313582437]\n",
      "\n",
      "Predicting for x=[0.790965  0.5694948 0.2214702 0.0316386]\n",
      "Posteriors are: [21035.277645862217, 1.209787218936053e-57, 6.063752843181863e-109]\n",
      "\n",
      "Predicting for x=[0.65387747 0.34250725 0.62274045 0.25947519]\n",
      "Posteriors are: [6.0576410338002226e-114, 3.883415730045527e-09, 21.88535351242642]\n",
      "\n",
      "Predicting for x=[0.71366557 0.28351098 0.61590317 0.17597233]\n",
      "Posteriors are: [7.550506005703775e-79, 5.299954558516949, 1826.6275979015018]\n",
      "\n",
      "Predicting for x=[0.76444238 0.27125375 0.55483721 0.18494574]\n",
      "Posteriors are: [1.2528735533878552e-66, 85.75420750929668, 0.37020990122875913]\n",
      "\n",
      "Predicting for x=[0.73260391 0.36029701 0.55245541 0.1681386 ]\n",
      "Posteriors are: [2.641977088777591e-54, 21895.176415496444, 38.90966953908711]\n",
      "\n",
      "Predicting for x=[0.72766159 0.27533141 0.59982915 0.18683203]\n",
      "Posteriors are: [3.1074695353140473e-78, 11.314016491405594, 1333.7533381565827]\n",
      "\n",
      "Predicting for x=[0.76945445 0.35601624 0.50531337 0.16078153]\n",
      "Posteriors are: [2.545885789484232e-42, 7325.0079702667235, 1.885440402290471e-05]\n",
      "\n",
      "Predicting for x=[0.73923462 0.37588201 0.52623481 0.187941  ]\n",
      "Posteriors are: [1.0619495825965098e-53, 8373.606212710709, 0.5666633403659485]\n",
      "Prediction: [1.0, 2.0, 1.0, 1.0, 0.0, 2.0, 1.0, 1.0, 0.0, 2.0, 2.0, 1.0, 2.0, 0.0, 0.0, 2.0, 0.0, 2.0, 2.0, 1.0, 1.0, 2.0, 1.0, 1.0]\n"
     ]
    },
    {
     "data": {
      "text/plain": [
       "array([1., 2., 1., 1., 0., 2., 1., 1., 0., 2., 2., 1., 2., 0., 0., 2., 0.,\n",
       "       2., 2., 1., 1., 2., 1., 1.])"
      ]
     },
     "execution_count": 77,
     "metadata": {},
     "output_type": "execute_result"
    }
   ],
   "source": [
    "model = NaiveBayes()\n",
    "model.train(training_features, training_labels)\n",
    "output=model.predict(test_features)\n",
    "output"
   ]
  },
  {
   "cell_type": "markdown",
   "id": "e7b3ec42-92e3-48e1-a3a4-3792250fede1",
   "metadata": {},
   "source": [
    "##### 9)Now that you've made your predictions, let's look at how our classifier performed. Use 3 of <a href=\"https://scikit-learn.org/stable/modules/model_evaluation.html\">scikit learn's classifier metrics</a> to evaluate how your classifier performed."
   ]
  },
  {
   "cell_type": "code",
   "execution_count": 87,
   "id": "01d489b7-30fe-43ad-9cfc-179452617fa1",
   "metadata": {
    "scrolled": true
   },
   "outputs": [
    {
     "name": "stdout",
     "output_type": "stream",
     "text": [
      "[1. 2. 1. 1. 0. 2. 1. 1. 0. 2. 2. 1. 2. 0. 0. 2. 0. 2. 2. 1. 1. 2. 1. 1.]\n",
      "Accuracy (using accuracy_score): 0.96\n",
      "Accuracy (using balanced_accuracy_score): 0.97\n",
      "Accuracy (using precision_score): 0.97\n"
     ]
    }
   ],
   "source": [
    "from sklearn.datasets import load_iris\n",
    "from sklearn.model_selection import train_test_split\n",
    "from sklearn.naive_bayes import GaussianNB\n",
    "from sklearn.metrics import accuracy_score, balanced_accuracy_score, precision_score\n",
    "\n",
    "X_train,y_train=training_features,training_labels\n",
    "X_test=test_features\n",
    "gnb = GaussianNB()\n",
    "y_pred = gnb.fit(X_train, y_train).predict(test_features)\n",
    "print(y_pred)\n",
    "\n",
    "# Evaluate accuracy\n",
    "accuracy = accuracy_score(test_labels, y_pred)\n",
    "print(f\"Accuracy (using accuracy_score): {accuracy:.2f}\")\n",
    "\n",
    "balancedAcc = balanced_accuracy_score(test_labels, y_pred)\n",
    "print(f\"Accuracy (using balanced_accuracy_score): {balancedAcc:.2f}\")\n",
    "\n",
    "precision = precision_score(test_labels, output, average='macro')\n",
    "print(f\"Accuracy (using precision_score): {precision:.2f}\")"
   ]
  },
  {
   "cell_type": "markdown",
   "id": "8b40d8f4-b0fa-45d0-9645-e42d62f95eaa",
   "metadata": {},
   "source": [
    "##### 10) Did it perform how you expected? Or di exceed your expectations? Try to improve the performance of your classifier if it isn't performing as expected or, if it did perform well, justify it's performance using data visualizations. This may require some <a href=\"https://towardsdatascience.com/exploratory-data-analysis-in-python-a-step-by-step-process-d0dfa6bf94ee\">*exploratory data analysis*</a>. Use visualizations, statistics, and whatever else you need to try to improve performance or support your work. Leave your work and documentation below (use as many cells as you need). You may use libraries such as Plotly, Matplotlib, etc. to aid you. There is no right or wrong answers here, just exploration!"
   ]
  },
  {
   "cell_type": "code",
   "execution_count": 92,
   "id": "94beb560",
   "metadata": {},
   "outputs": [
    {
     "data": {
      "text/plain": [
       "<sklearn.metrics._plot.confusion_matrix.ConfusionMatrixDisplay at 0x2046e9cbd10>"
      ]
     },
     "execution_count": 92,
     "metadata": {},
     "output_type": "execute_result"
    },
    {
     "data": {
      "image/png": "[encoded data removed]",
      "text/plain": [
       "<Figure size 640x480 with 2 Axes>"
      ]
     },
     "metadata": {},
     "output_type": "display_data"
    }
   ],
   "source": [
    "#Yes, the model performed quite well, with a 96 - 97% accuracy. \n",
    "from sklearn.metrics import  confusion_matrix, ConfusionMatrixDisplay\n",
    "import matplotlib.pyplot as plt\n",
    "cm = confusion_matrix(test_labels, y_pred)\n",
    "disp = ConfusionMatrixDisplay(confusion_matrix=cm)\n",
    "disp.plot(cmap=plt.cm.Greens)"
   ]
  },
  {
   "cell_type": "markdown",
   "id": "95291124-092e-414f-8dfd-40d8c1dafc05",
   "metadata": {},
   "source": [
    "##### 11) Were you able to make improvements to your classifier? Why or why not? Hint: Naive Bayes is generally pretty straight forward to plot and see where the algorithm created boundaries. Use this to help you come to your conclusion."
   ]
  },
  {
   "cell_type": "markdown",
   "id": "87262167-35b6-4223-a793-186ce738aba0",
   "metadata": {},
   "source": [
    "Since the classifier is already highly accurate, with a 96-97% accuracy, it is diffcult to make it more accurate. To increase the accuracy of the classfier, we would need more data to train and test it. "
   ]
  }
 ],
 "metadata": {
  "kernelspec": {
   "display_name": "Python 3 (ipykernel)",
   "language": "python",
   "name": "python3"
  },
  "language_info": {
   "codemirror_mode": {
    "name": "ipython",
    "version": 3
   },
   "file_extension": ".py",
   "mimetype": "text/x-python",
   "name": "python",
   "nbconvert_exporter": "python",
   "pygments_lexer": "ipython3",
   "version": "3.11.5"
  }
 },
 "nbformat": 4,
 "nbformat_minor": 5
}
